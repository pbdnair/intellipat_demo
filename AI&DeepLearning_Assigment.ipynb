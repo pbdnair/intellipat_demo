{
  "nbformat": 4,
  "nbformat_minor": 0,
  "metadata": {
    "colab": {
      "name": "AI&DeepLearning Assigment.ipynb",
      "provenance": []
    },
    "kernelspec": {
      "name": "python3",
      "display_name": "Python 3"
    },
    "language_info": {
      "name": "python"
    }
  },
  "cells": [
    {
      "cell_type": "code",
      "execution_count": null,
      "metadata": {
        "id": "1xGACXCPj281"
      },
      "outputs": [],
      "source": [
        "# A. Install Anaconda on your system with Python version 3.6 or +\n",
        "#a. Create a Tensor Flow environment in your anaconda\n",
        "#b. Download Tensor Flow in your Tensor Flow environment \n",
        "\n",
        "import tensorflow as tf"
      ]
    },
    {
      "cell_type": "code",
      "source": [
        "import pandas as pd\n",
        "import numpy as np\n",
        "import matplotlib.pyplot as plt\n",
        "!pip install scikit-learn"
      ],
      "metadata": {
        "colab": {
          "base_uri": "https://localhost:8080/"
        },
        "id": "5dN-mwBGkJNp",
        "outputId": "30562212-2684-479d-8460-3f83952f6fd6"
      },
      "execution_count": null,
      "outputs": [
        {
          "output_type": "stream",
          "name": "stdout",
          "text": [
            "Requirement already satisfied: scikit-learn in /usr/local/lib/python3.7/dist-packages (1.0.2)\n",
            "Requirement already satisfied: joblib>=0.11 in /usr/local/lib/python3.7/dist-packages (from scikit-learn) (1.1.0)\n",
            "Requirement already satisfied: numpy>=1.14.6 in /usr/local/lib/python3.7/dist-packages (from scikit-learn) (1.21.5)\n",
            "Requirement already satisfied: threadpoolctl>=2.0.0 in /usr/local/lib/python3.7/dist-packages (from scikit-learn) (3.1.0)\n",
            "Requirement already satisfied: scipy>=1.1.0 in /usr/local/lib/python3.7/dist-packages (from scikit-learn) (1.4.1)\n"
          ]
        }
      ]
    },
    {
      "cell_type": "code",
      "source": [
        "!pip install tflearn"
      ],
      "metadata": {
        "colab": {
          "base_uri": "https://localhost:8080/"
        },
        "id": "1wEnX3XsnuOr",
        "outputId": "501c4e11-faa5-47ca-dd9b-5831f0431d8e"
      },
      "execution_count": null,
      "outputs": [
        {
          "output_type": "stream",
          "name": "stdout",
          "text": [
            "Collecting tflearn\n",
            "  Downloading tflearn-0.5.0.tar.gz (107 kB)\n",
            "\u001b[?25l\r\u001b[K     |███                             | 10 kB 17.0 MB/s eta 0:00:01\r\u001b[K     |██████                          | 20 kB 9.4 MB/s eta 0:00:01\r\u001b[K     |█████████▏                      | 30 kB 7.9 MB/s eta 0:00:01\r\u001b[K     |████████████▏                   | 40 kB 7.2 MB/s eta 0:00:01\r\u001b[K     |███████████████▎                | 51 kB 3.4 MB/s eta 0:00:01\r\u001b[K     |██████████████████▎             | 61 kB 4.0 MB/s eta 0:00:01\r\u001b[K     |█████████████████████▍          | 71 kB 4.3 MB/s eta 0:00:01\r\u001b[K     |████████████████████████▍       | 81 kB 4.5 MB/s eta 0:00:01\r\u001b[K     |███████████████████████████▌    | 92 kB 4.9 MB/s eta 0:00:01\r\u001b[K     |██████████████████████████████▌ | 102 kB 4.1 MB/s eta 0:00:01\r\u001b[K     |████████████████████████████████| 107 kB 4.1 MB/s \n",
            "\u001b[?25hRequirement already satisfied: numpy in /usr/local/lib/python3.7/dist-packages (from tflearn) (1.21.5)\n",
            "Requirement already satisfied: six in /usr/local/lib/python3.7/dist-packages (from tflearn) (1.15.0)\n",
            "Requirement already satisfied: Pillow in /usr/local/lib/python3.7/dist-packages (from tflearn) (7.1.2)\n",
            "Building wheels for collected packages: tflearn\n",
            "  Building wheel for tflearn (setup.py) ... \u001b[?25l\u001b[?25hdone\n",
            "  Created wheel for tflearn: filename=tflearn-0.5.0-py3-none-any.whl size=127299 sha256=b22e2ad96d1e178272980d2d1e79c563024411414c8a0636e152547b0c9cd7eb\n",
            "  Stored in directory: /root/.cache/pip/wheels/5f/14/2e/1d8e28cc47a5a931a2fb82438c9e37ef9246cc6a3774520271\n",
            "Successfully built tflearn\n",
            "Installing collected packages: tflearn\n",
            "Successfully installed tflearn-0.5.0\n"
          ]
        }
      ]
    },
    {
      "cell_type": "code",
      "source": [
        "!pip install -q keras"
      ],
      "metadata": {
        "id": "3Um67i2npBZo"
      },
      "execution_count": null,
      "outputs": []
    },
    {
      "cell_type": "code",
      "source": [
        "# Tensor flow assigment2"
      ],
      "metadata": {
        "id": "CL496sIrpcqr"
      },
      "execution_count": null,
      "outputs": []
    },
    {
      "cell_type": "code",
      "source": [
        "#Shows how you can create a session in Tensor Flow"
      ],
      "metadata": {
        "id": "lYI-YdQpp3-u"
      },
      "execution_count": null,
      "outputs": []
    },
    {
      "cell_type": "code",
      "source": [
        "# Create a graph.\n",
        "g = tf.Graph()\n",
        "\n",
        "# Establish the graph as the \"default\" graph.\n",
        "with g.as_default():\n",
        "  # Assemble a graph consisting of the following three operations:\n",
        "  #   * Two tf.constant operations to create the operands.\n",
        "  #   * One tf.add operation to add the two operands.\n",
        "  x = tf.constant(8, name=\"x_const\")\n",
        "  y = tf.constant(5, name=\"y_const\")\n",
        "  my_sum = tf.add(x, y, name=\"x_y_sum\")\n",
        "  my_sub = tf.subtract(x, y, name=\"x_y_sub\")\n",
        "\n",
        "\n",
        "  # Now create a session.\n",
        "  # The session will run the default graph.\n",
        "  with tf.compat.v1.Session() as sess:\n",
        "    print(my_sum.eval())\n",
        "    print(my_sub.eval())"
      ],
      "metadata": {
        "colab": {
          "base_uri": "https://localhost:8080/"
        },
        "id": "tByroNLglK-i",
        "outputId": "e086f0be-de43-47eb-b574-30b418525c2e"
      },
      "execution_count": null,
      "outputs": [
        {
          "output_type": "stream",
          "name": "stdout",
          "text": [
            "13\n",
            "3\n"
          ]
        }
      ]
    },
    {
      "cell_type": "code",
      "source": [
        "# to call before the graph to execute it\n",
        "tf.compat.v1.disable_eager_execution()\n",
        "hello_constant=tf.constant(\"Hello World\")\n",
        "with tf.compat.v1.Session() as sess:\n",
        "  print(sess.run(hello_constant))"
      ],
      "metadata": {
        "colab": {
          "base_uri": "https://localhost:8080/"
        },
        "id": "vEVtIxknmOIl",
        "outputId": "332ee22e-6a23-47d5-eb4b-8ed0631c8661"
      },
      "execution_count": null,
      "outputs": [
        {
          "output_type": "stream",
          "name": "stdout",
          "text": [
            "b'Hello World'\n"
          ]
        }
      ]
    },
    {
      "cell_type": "code",
      "source": [
        "#  Create a simple Linear Equation y = mx+c in tensor flow, where m and c are variables\n",
        "and x is a placeholder\n",
        "a. Feed in a scalar value to x\n",
        "b. Feed in a vector of 5 values to x\n",
        "c. Choose arbitrary values for m and c "
      ],
      "metadata": {
        "id": "g2La_mMQm9VR"
      },
      "execution_count": null,
      "outputs": []
    },
    {
      "cell_type": "code",
      "source": [
        "import tensorflow.compat.v1 as tf\n",
        "tf.disable_v2_behavior()"
      ],
      "metadata": {
        "id": "i0wkuEOawXH1",
        "colab": {
          "base_uri": "https://localhost:8080/"
        },
        "outputId": "7a45774a-74ff-4b2a-cd30-19956add00fe"
      },
      "execution_count": 2,
      "outputs": [
        {
          "output_type": "stream",
          "name": "stdout",
          "text": [
            "WARNING:tensorflow:From /usr/local/lib/python3.7/dist-packages/tensorflow/python/compat/v2_compat.py:107: disable_resource_variables (from tensorflow.python.ops.variable_scope) is deprecated and will be removed in a future version.\n",
            "Instructions for updating:\n",
            "non-resource variables are not supported in the long term\n"
          ]
        }
      ]
    },
    {
      "cell_type": "code",
      "source": [
        "\n",
        "\n",
        "m = tf.Variable([2.8], tf.float32, name='var_m')\n",
        "x = tf.placeholder(tf.float32, name='x')\n",
        "c = tf.Variable([3.0], tf.float32, name='var_c')\n",
        "y = m*x + c\n",
        "\n",
        "init = tf.global_variables_initializer()\n",
        "with tf.compat.v1.Session() as sess:\n",
        "  sess.run(init)\n",
        "  print(\"Final result: m*x + c =\", sess.run(y,feed_dict={x:[5]}))\n",
        "\n",
        "\n"
      ],
      "metadata": {
        "id": "QGjm9fuxEE-I",
        "colab": {
          "base_uri": "https://localhost:8080/"
        },
        "outputId": "27c1b6ca-2ef2-45ad-fcd3-49d8c48a7cc1"
      },
      "execution_count": 3,
      "outputs": [
        {
          "output_type": "stream",
          "name": "stdout",
          "text": [
            "Final result: m*x + c = [17.]\n"
          ]
        }
      ]
    },
    {
      "cell_type": "code",
      "source": [
        ""
      ],
      "metadata": {
        "id": "xtV8-M0WLLd3"
      },
      "execution_count": null,
      "outputs": []
    }
  ]
}