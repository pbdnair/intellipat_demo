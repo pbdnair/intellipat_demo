{
  "nbformat": 4,
  "nbformat_minor": 0,
  "metadata": {
    "colab": {
      "name": "26th Feb CNN-2.ipynb",
      "provenance": [],
      "include_colab_link": true
    },
    "kernelspec": {
      "name": "python3",
      "display_name": "Python 3"
    },
    "language_info": {
      "name": "python"
    }
  },
  "cells": [
    {
      "cell_type": "markdown",
      "metadata": {
        "id": "view-in-github",
        "colab_type": "text"
      },
      "source": [
        "<a href=\"https://colab.research.google.com/github/pbdnair/intellipat_demo/blob/main/26th_Feb_CNN_2.ipynb\" target=\"_parent\"><img src=\"https://colab.research.google.com/assets/colab-badge.svg\" alt=\"Open In Colab\"/></a>"
      ]
    },
    {
      "cell_type": "code",
      "execution_count": null,
      "metadata": {
        "id": "BvOE8-yqgC7I"
      },
      "outputs": [],
      "source": [
        "import tensorflow as tf\n",
        "import numpy as np \n",
        "import pandas as pd \n",
        "import matplotlib.pyplot as plt"
      ]
    },
    {
      "cell_type": "code",
      "source": [
        "! mkdir -p /root/.kaggle\n",
        "! mv kaggle.json /root/.kaggle"
      ],
      "metadata": {
        "id": "JT00T6Miz6b9"
      },
      "execution_count": null,
      "outputs": []
    },
    {
      "cell_type": "code",
      "source": [
        "! kaggle competitions download -c dogs-vs-cats"
      ],
      "metadata": {
        "colab": {
          "base_uri": "https://localhost:8080/"
        },
        "id": "i3V2Ci9G0gRD",
        "outputId": "7c83cda0-6515-4d5d-c61b-12fe9b8e8a3a"
      },
      "execution_count": null,
      "outputs": [
        {
          "output_type": "stream",
          "name": "stdout",
          "text": [
            "Warning: Your Kaggle API key is readable by other users on this system! To fix this, you can run 'chmod 600 /root/.kaggle/kaggle.json'\n",
            "Warning: Looks like you're using an outdated API Version, please consider updating (server 1.5.12 / client 1.5.4)\n",
            "Downloading train.zip to /content\n",
            " 97% 526M/543M [00:03<00:00, 153MB/s]\n",
            "100% 543M/543M [00:03<00:00, 159MB/s]\n",
            "Downloading sampleSubmission.csv to /content\n",
            "  0% 0.00/86.8k [00:00<?, ?B/s]\n",
            "100% 86.8k/86.8k [00:00<00:00, 75.6MB/s]\n",
            "Downloading test1.zip to /content\n",
            " 98% 265M/271M [00:02<00:00, 132MB/s]\n",
            "100% 271M/271M [00:02<00:00, 132MB/s]\n"
          ]
        }
      ]
    },
    {
      "cell_type": "code",
      "source": [
        "! unzip -q train.zip"
      ],
      "metadata": {
        "id": "wsOYSGYw0iqO"
      },
      "execution_count": null,
      "outputs": []
    },
    {
      "cell_type": "code",
      "source": [
        "batch_size = 64"
      ],
      "metadata": {
        "id": "8SWwsQEJ2HZ8"
      },
      "execution_count": null,
      "outputs": []
    },
    {
      "cell_type": "code",
      "source": [
        "import os\n",
        "from shutil import copy\n",
        "os.mkdir(\"train_data\")\n",
        "os.mkdir(\"train_data/cat\")\n",
        "os.mkdir(\"train_data/dog\")\n",
        "for imageName in os.listdir(\"train/\"):\n",
        "  if \"cat\" in imageName.lower():\n",
        "    copy(\"train/\" + imageName, \"train_data/cat\")\n",
        "  elif 'dog' in imageName.lower():\n",
        "    copy(\"train/\" + imageName, \"train_data/dog\")"
      ],
      "metadata": {
        "id": "PJ-etD1x0met"
      },
      "execution_count": null,
      "outputs": []
    },
    {
      "cell_type": "code",
      "source": [
        "os.listdir(\"train_data\")"
      ],
      "metadata": {
        "colab": {
          "base_uri": "https://localhost:8080/"
        },
        "id": "soQ_DF-j1HaA",
        "outputId": "1ceef6c2-f07a-4c3c-88fa-f2f0769e0543"
      },
      "execution_count": null,
      "outputs": [
        {
          "output_type": "execute_result",
          "data": {
            "text/plain": [
              "['dog', 'cat']"
            ]
          },
          "metadata": {},
          "execution_count": 7
        }
      ]
    },
    {
      "cell_type": "code",
      "source": [
        "len(os.listdir(\"train_data/cat\"))"
      ],
      "metadata": {
        "colab": {
          "base_uri": "https://localhost:8080/"
        },
        "id": "FiGmn8cn1RKu",
        "outputId": "a5d587eb-97f5-4cd5-fae8-cbbfd439edf7"
      },
      "execution_count": null,
      "outputs": [
        {
          "output_type": "execute_result",
          "data": {
            "text/plain": [
              "12500"
            ]
          },
          "metadata": {},
          "execution_count": 8
        }
      ]
    },
    {
      "cell_type": "code",
      "source": [
        "idg = tf.keras.preprocessing.image.ImageDataGenerator(rotation_range=(0, 30), \n",
        "                                                      horizontal_flip=True, \n",
        "                                                      zoom_range=(0, 0.1),\n",
        "                                                      rescale=1/255.0, \n",
        "                                                      validation_split=0.1)"
      ],
      "metadata": {
        "id": "h-94xgyX1UPy"
      },
      "execution_count": null,
      "outputs": []
    },
    {
      "cell_type": "code",
      "source": [
        "train_gen = idg.flow_from_directory(\"train_data\", \n",
        "                                    target_size=(150, 150), \n",
        "                                    batch_size=batch_size, \n",
        "                                    subset=\"training\")"
      ],
      "metadata": {
        "colab": {
          "base_uri": "https://localhost:8080/"
        },
        "id": "G0jiQnap19j_",
        "outputId": "9af05c70-92d6-4457-e68f-fba327dd6fe1"
      },
      "execution_count": null,
      "outputs": [
        {
          "output_type": "stream",
          "name": "stdout",
          "text": [
            "Found 22500 images belonging to 2 classes.\n"
          ]
        }
      ]
    },
    {
      "cell_type": "code",
      "source": [
        "val_gen = idg.flow_from_directory(\"train_data\", \n",
        "                                  target_size=(150, 150), \n",
        "                                  batch_size=batch_size, \n",
        "                                  subset=\"validation\")"
      ],
      "metadata": {
        "colab": {
          "base_uri": "https://localhost:8080/"
        },
        "id": "jdlJToBk2OJU",
        "outputId": "d341df39-2809-485c-aaf6-5d50d6a480de"
      },
      "execution_count": null,
      "outputs": [
        {
          "output_type": "stream",
          "name": "stdout",
          "text": [
            "Found 2500 images belonging to 2 classes.\n"
          ]
        }
      ]
    },
    {
      "cell_type": "code",
      "source": [
        "from tensorflow.keras.models import Sequential\n",
        "from tensorflow.keras.layers import Flatten, Dense, Conv2D, MaxPool2D, Input\n",
        "from tensorflow.keras.activations import relu, softmax\n",
        "from tensorflow.keras.optimizers import SGD\n",
        "from tensorflow.keras.losses import categorical_crossentropy"
      ],
      "metadata": {
        "id": "E4r92Yog2bbY"
      },
      "execution_count": null,
      "outputs": []
    },
    {
      "cell_type": "code",
      "source": [
        "model = Sequential()"
      ],
      "metadata": {
        "id": "Z4qqVJk73BfY"
      },
      "execution_count": null,
      "outputs": []
    },
    {
      "cell_type": "code",
      "source": [
        "model.add(Input(shape=(150, 150, 3), name = \"InpLayer\"))\n",
        "model.add(Conv2D(filters=16, kernel_size=(3,3), strides=(1,1), activation=relu))\n",
        "model.add(MaxPool2D(pool_size=(2,2), strides=(2,2)))\n",
        "model.add(Flatten())\n",
        "model.add(Dense(2, activation=softmax))\n",
        "model.summary()"
      ],
      "metadata": {
        "colab": {
          "base_uri": "https://localhost:8080/"
        },
        "id": "V_XZ1h9P3DU4",
        "outputId": "d78335db-679a-4c92-93da-4d6293583861"
      },
      "execution_count": null,
      "outputs": [
        {
          "output_type": "stream",
          "name": "stdout",
          "text": [
            "Model: \"sequential\"\n",
            "_________________________________________________________________\n",
            " Layer (type)                Output Shape              Param #   \n",
            "=================================================================\n",
            " conv2d (Conv2D)             (None, 148, 148, 16)      448       \n",
            "                                                                 \n",
            " max_pooling2d (MaxPooling2D  (None, 74, 74, 16)       0         \n",
            " )                                                               \n",
            "                                                                 \n",
            " flatten (Flatten)           (None, 87616)             0         \n",
            "                                                                 \n",
            " dense (Dense)               (None, 2)                 175234    \n",
            "                                                                 \n",
            "=================================================================\n",
            "Total params: 175,682\n",
            "Trainable params: 175,682\n",
            "Non-trainable params: 0\n",
            "_________________________________________________________________\n"
          ]
        }
      ]
    },
    {
      "cell_type": "code",
      "source": [
        ""
      ],
      "metadata": {
        "id": "iuLn4Pax5OA-"
      },
      "execution_count": null,
      "outputs": []
    }
  ]
}